#This is a Juypter notebook for my capstone course in IBM data science professio#nal certificate
import pandas as pd
import numpy as np
print("Hello capstone project course")
