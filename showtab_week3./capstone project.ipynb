{
    "cells": [
        {
            "cell_type": "markdown",
            "metadata": {
                "collapsed": true
            },
            "source": "\nTHIS is the creation fo the dataframe(The table in wikipedia has already been sorted according to the post code hence making the 3rd question invalid)"
        },
        {
            "cell_type": "code",
            "execution_count": 40,
            "metadata": {},
            "outputs": [],
            "source": "import pandas as pd\nimport numpy as np\nfrom sklearn.cluster import KMeans\nimport requests"
        },
        {
            "cell_type": "code",
            "execution_count": 8,
            "metadata": {},
            "outputs": [
                {
                    "data": {
                        "text/html": "<div>\n<style scoped>\n    .dataframe tbody tr th:only-of-type {\n        vertical-align: middle;\n    }\n\n    .dataframe tbody tr th {\n        vertical-align: top;\n    }\n\n    .dataframe thead th {\n        text-align: right;\n    }\n</style>\n<table border=\"1\" class=\"dataframe\">\n  <thead>\n    <tr style=\"text-align: right;\">\n      <th></th>\n      <th>Postal code</th>\n      <th>Borough</th>\n      <th>Neighborhood</th>\n    </tr>\n  </thead>\n  <tbody>\n    <tr>\n      <th>0</th>\n      <td>M1A</td>\n      <td>Not assigned</td>\n      <td>NaN</td>\n    </tr>\n    <tr>\n      <th>1</th>\n      <td>M2A</td>\n      <td>Not assigned</td>\n      <td>NaN</td>\n    </tr>\n    <tr>\n      <th>2</th>\n      <td>M3A</td>\n      <td>North York</td>\n      <td>Parkwoods</td>\n    </tr>\n    <tr>\n      <th>3</th>\n      <td>M4A</td>\n      <td>North York</td>\n      <td>Victoria Village</td>\n    </tr>\n    <tr>\n      <th>4</th>\n      <td>M5A</td>\n      <td>Downtown Toronto</td>\n      <td>Regent Park / Harbourfront</td>\n    </tr>\n  </tbody>\n</table>\n</div>",
                        "text/plain": "  Postal code           Borough                Neighborhood\n0         M1A      Not assigned                         NaN\n1         M2A      Not assigned                         NaN\n2         M3A        North York                   Parkwoods\n3         M4A        North York            Victoria Village\n4         M5A  Downtown Toronto  Regent Park / Harbourfront"
                    },
                    "execution_count": 8,
                    "metadata": {},
                    "output_type": "execute_result"
                }
            ],
            "source": "\nurl=\"https://en.wikipedia.org/wiki/List_of_postal_codes_of_Canada:_M\"\nheaders = {\n  \"User-Agent\": \"Mozilla/5.0 (X11; Linux x86_64) AppleWebKit/537.36 (KHTML, like Gecko) Chrome/50.0.2661.75 Safari/537.36\",\n  \"X-Requested-With\": \"XMLHttpRequest\" #this indicates my computers header to extract html file\n}\n\nr = requests.get(url, headers=header)\n\ntables = pd.read_html(r.text)\ntables[0].head()#as it is seen the table on the wikipedia page is sorted"
        },
        {
            "cell_type": "code",
            "execution_count": 36,
            "metadata": {},
            "outputs": [
                {
                    "data": {
                        "text/plain": "(103, 3)"
                    },
                    "execution_count": 36,
                    "metadata": {},
                    "output_type": "execute_result"
                }
            ],
            "source": "df=pd.DataFrame(tables[0])\n\n# The dataframe will consist of three columns: PostalCode, Borough, and Neighborhood\n\ndf.columns=['Postcode','Borough','Neighbourhood']\ndf.drop([0],axis=0,inplace=True)\n\n\n# Only process the cells that have an assigned borough. Ignore cells with a borough that is Not assigned.\n\ndf.drop(df[df['Borough']==\"Not assigned\"].index,axis=0, inplace=True)\n\n# More than one neighborhood can exist in one postal code area. \n# For example, in the table on the Wikipedia page, \n# you will notice that M5A is listed twice and has two neighborhoods: \n# Harbourfront and Regent Park. These two rows will be combined into one row with the neighborhoods \n# separated with a comma as shown in row 11 in the above table.\n#THE ABOVE QUESTION DOES NOT APPLY AS THE POSTCODE HAS ALREADY BEEN SORTED\n#The below code just changes the'/' for a ','\n\n\nnew_df=df['Neighbourhood'].str.split('/')\ndata=new_df.to_list()\ndf.loc[:,'Neighbourhood']=new_df.apply(lambda x:','.join(x))\n\n\n\n# If a cell has a borough but a Not assigned neighborhood, \n# then the neighborhood will be the same as the borough. \n# So for the 9th cell in the table on the Wikipedia page, \n# the value of the Borough and the Neighborhood columns will be Queen's Park.\n\ndf.loc[df['Neighbourhood']==\"Not assigned\",'Neighbourhood']=df.loc[df['Neighbourhood']==\"Not assigned\",'Borough']\ndf.reset_index(drop=True,inplace=True)\ndf.shape"
        },
        {
            "cell_type": "code",
            "execution_count": 41,
            "metadata": {},
            "outputs": [
                {
                    "data": {
                        "text/html": "<div>\n<style scoped>\n    .dataframe tbody tr th:only-of-type {\n        vertical-align: middle;\n    }\n\n    .dataframe tbody tr th {\n        vertical-align: top;\n    }\n\n    .dataframe thead th {\n        text-align: right;\n    }\n</style>\n<table border=\"1\" class=\"dataframe\">\n  <thead>\n    <tr style=\"text-align: right;\">\n      <th></th>\n      <th>Postcode</th>\n      <th>Borough</th>\n      <th>Neighbourhood</th>\n    </tr>\n  </thead>\n  <tbody>\n    <tr>\n      <th>0</th>\n      <td>M3A</td>\n      <td>North York</td>\n      <td>Parkwoods</td>\n    </tr>\n    <tr>\n      <th>1</th>\n      <td>M4A</td>\n      <td>North York</td>\n      <td>Victoria Village</td>\n    </tr>\n    <tr>\n      <th>2</th>\n      <td>M5A</td>\n      <td>Downtown Toronto</td>\n      <td>Regent Park , Harbourfront</td>\n    </tr>\n    <tr>\n      <th>3</th>\n      <td>M6A</td>\n      <td>North York</td>\n      <td>Lawrence Manor , Lawrence Heights</td>\n    </tr>\n    <tr>\n      <th>4</th>\n      <td>M7A</td>\n      <td>Downtown Toronto</td>\n      <td>Queen's Park , Ontario Provincial Government</td>\n    </tr>\n  </tbody>\n</table>\n</div>",
                        "text/plain": "  Postcode           Borough                                 Neighbourhood\n0      M3A        North York                                     Parkwoods\n1      M4A        North York                              Victoria Village\n2      M5A  Downtown Toronto                    Regent Park , Harbourfront\n3      M6A        North York             Lawrence Manor , Lawrence Heights\n4      M7A  Downtown Toronto  Queen's Park , Ontario Provincial Government"
                    },
                    "execution_count": 41,
                    "metadata": {},
                    "output_type": "execute_result"
                }
            ],
            "source": "df.head()"
        },
        {
            "cell_type": "code",
            "execution_count": null,
            "metadata": {},
            "outputs": [],
            "source": ""
        }
    ],
    "metadata": {
        "kernelspec": {
            "display_name": "Python 3.6",
            "language": "python",
            "name": "python3"
        },
        "language_info": {
            "codemirror_mode": {
                "name": "ipython",
                "version": 3
            },
            "file_extension": ".py",
            "mimetype": "text/x-python",
            "name": "python",
            "nbconvert_exporter": "python",
            "pygments_lexer": "ipython3",
            "version": "3.6.9"
        }
    },
    "nbformat": 4,
    "nbformat_minor": 1
}