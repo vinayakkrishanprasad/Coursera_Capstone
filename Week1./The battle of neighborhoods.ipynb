{
    "cells": [
        {
            "cell_type": "markdown",
            "metadata": {
                "collapsed": true
            },
            "source": "# Introduction/Buisness Problem"
        },
        {
            "cell_type": "markdown",
            "metadata": {},
            "source": "Background.\n\nBangalore is one of the India leading cities in terms of I.T(known as the silicon valley of India). Due to this there are a large number of people that come from different parts of the country in search of jobs. With the growing population there is an increase in the number of apartments which makes it extremely difficult for people from other parts of the country as well as living in Bangalore to choose where to buy a flat as a home or a profitable investment.\n\nBusiness Problem:.\n\nIn this scenario, we will use machine learning tools in order to assist homebuyers clientele in Bangalore to make wise and effective decisions. As a result, the business problem we are currently posing is: how could we provide support to homebuyers clientele in to purchase a suitable homes in Bangalore?\n\nTo solve this business problem, we are going to cluster Bangalore neighborhoods in order to recommend venues and the current average price of real estate where homebuyers can make a real estate investment. We will recommend profitable venues according to amenities and essential facilities surrounding such venues i.e. elementary schools, high schools, hospitals & grocery stores."
        },
        {
            "cell_type": "markdown",
            "metadata": {},
            "source": "# Data Section"
        },
        {
            "cell_type": "markdown",
            "metadata": {},
            "source": "Data on Bangalore Apartment properties and the relative price paid data were extracted from the website(https://www.kaggle.com/sangarshanan/bangalore-apartments-dataset#blore_apartment_data.csv) from the Kaggle website which has scraped the data from Common floor(https://www.commonfloor.com/bangalore-property/projects). The following fields comprise the Apartment names, Price Paid Data: Area: BHK.\nAnother Data set consisting(https://www.kaggle.com/sangarshanan/bangalore-apartments-dataset#apartment_data.csv) obtained from the same website consists of the coordinates(Latitude and Longitude) of the various apartments in Bangalore.\nTo explore and target recommended locations across different venues according to the presence of amenities and essential facilities, we will access data through FourSquare API interface and arrange them as a dataframe for visualization. By merging data on properties and the relative price paid data and data on amenities and essential facilities surrounding such properties from FourSquare API interface, we will be able to recommend profitable real estate investments or homes."
        },
        {
            "cell_type": "code",
            "execution_count": null,
            "metadata": {},
            "outputs": [],
            "source": ""
        }
    ],
    "metadata": {
        "kernelspec": {
            "display_name": "Python 3.6",
            "language": "python",
            "name": "python3"
        },
        "language_info": {
            "codemirror_mode": {
                "name": "ipython",
                "version": 3
            },
            "file_extension": ".py",
            "mimetype": "text/x-python",
            "name": "python",
            "nbconvert_exporter": "python",
            "pygments_lexer": "ipython3",
            "version": "3.6.9"
        }
    },
    "nbformat": 4,
    "nbformat_minor": 1
}