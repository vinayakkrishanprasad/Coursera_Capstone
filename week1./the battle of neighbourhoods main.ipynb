{
    "cells": [
        {
            "cell_type": "markdown",
            "metadata": {
                "collapsed": true
            },
            "source": "CAPSTONE\nBattle of the Neighborhoods\nIndian Restaurants\nvinayak \n-------------------------------------------------------------------------------------------------------\nIntroduction\nThis final project explores the best locations for Indian restaurants throughout the city of Toronto.Toronto is a major metropolitan area with more than 2.8 million(2016) people living within city limits. Most of the Indian immigration into Canada is occurring now due to Toronto booming oppurtunities as well as during early 20th century during the partition of India and Pakistan. This report explores which neighborhoods and boroughs of Toronto have the most as well as the best Indian restaurants. Additionally, I will attempt to answer the questions \u201cWhere should I open an Indian Restaurant?\u201d and \u201cWhere should I stay If I want great Indian food?\u201d\n\nData\nIn order to answer the above questions, data on Toronto City neighbourhoods, boroughs to include boundaries, latitude, longitude, restaurants, and restaurant ratings and tips are required.\n\nToronto City data containing the neighborhoods and boroughs, latitudes, and longitudes will be obtained from the data source: https://en.wikipedia.org/wiki/List_of_postal_codes_of_Canada:_M\n\nAll data related to locations and quality of Indian restaurants will be obtained via the FourSquare API utilized via the Request library in Python.\n\nMethodology\n\u2022 Data will be collected from https://en.wikipedia.org/wiki/List_of_postal_codes_of_Canada:_M and cleaned and processed into a dataframe.\n\n\u2022 FourSquare be used to locate all venues and then filtered by Indian restaurants. Ratings, tips, and likes by users will be counted and added to the dataframe.\n\n\u2022 Data will be sorted based on rankings\n\n\u2022 Finally, the data be will be visually assessed using graphing from various Python libraries.\n\nProblem Statement\nWhat is / are the best location(s) for Indian cuisine in Toronto City?\nIn what Neighborhood and/or borough should I open an Indian restaurant to have the best chance of being successful?\nWhere would I go in Toronto City to have the best Indian food?"
        },
        {
            "cell_type": "code",
            "execution_count": null,
            "metadata": {},
            "outputs": [],
            "source": ""
        }
    ],
    "metadata": {
        "kernelspec": {
            "display_name": "Python 3.6",
            "language": "python",
            "name": "python3"
        },
        "language_info": {
            "codemirror_mode": {
                "name": "ipython",
                "version": 3
            },
            "file_extension": ".py",
            "mimetype": "text/x-python",
            "name": "python",
            "nbconvert_exporter": "python",
            "pygments_lexer": "ipython3",
            "version": "3.6.9"
        }
    },
    "nbformat": 4,
    "nbformat_minor": 1
}